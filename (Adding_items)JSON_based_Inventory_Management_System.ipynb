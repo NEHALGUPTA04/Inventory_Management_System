{
  "nbformat": 4,
  "nbformat_minor": 0,
  "metadata": {
    "colab": {
      "name": "(Adding items)JSON based Inventory Management System.ipynb",
      "provenance": [],
      "collapsed_sections": []
    },
    "kernelspec": {
      "name": "python3",
      "display_name": "Python 3"
    },
    "language_info": {
      "name": "python"
    }
  },
  "cells": [
    {
      "cell_type": "code",
      "metadata": {
        "id": "-F5aJ966vJZu"
      },
      "source": [
        "record = {1101:{'name':'candy','quantity': 20,'price': 5,'brand':'cans'}, \n",
        "          1102 :{'name':'cake','quantity': 50,'price': 200,'brand':'cakes n crafts'},\n",
        "          1103 :{'name':'soap','quantity': 40,'price': 30,'brand':'Liril'},\n",
        "          1104 :{'name':'brush','quantity': 20,'price': 20,'brand':'Oral B'},\n",
        "          1105 :{'name':'Paste','quantity': 70,'price': 90,'brand':'Patanjali'},\n",
        "          1106 :{'name':'oil', 'quantity': 10,'price': 100,'brand':'Saffola'},\n",
        "          1107 :{'name':'Haldi','quantity': 30,'price': 90,'brand':'Jwala'},\n",
        "          1108 :{'name':'Mirch','quantity': 20,'price': 40,'brand':'Jwala'},\n",
        "          1109 :{'name':'Detergent','quantity': 100,'price': 40,'brand':'Ghadi'},\n",
        "          11010 :{'name':'Chocolate','quantity': 50,'price': 20,'brand':'Dairy Milk'},\n",
        "          11011 :{'name':'Biscuit','quantity': 20,'price': 10,'brand':'baurbon'},\n",
        "          11012 :{'name':'bournVita','quantity': 20,'price': 10,'brand':'Cadbury'},\n",
        "          11013 :{'name':'Ghee','quantity': 50,'price': 300,'brand':'Amul'},\n",
        "          11014 :{'name':'milk','quantity': 20,'price': 50,'brand':'Amul'},\n",
        "          11015 :{'name':'MouthFreshner','quantity': 20,'price': 5,'brand':'gold'}, \n",
        "          11016 :{'name':'shampoo','quantity': 40,'price': 5,'brand':'dove'},\n",
        "          11017 :{'name':'maggie','quantity': 20,'price': 20,'brand':'nestle'},\n",
        "          11018 :{'name':'pasta','quantity': 20,'price': 30,'brand':'nestle'},\n",
        "          11019 :{'name':'yippee','quantity': 30,'price': 20,'brand':'yippee'},\n",
        "          11020 :{'name':'perk','quantity': 20,'price': 10,'brand':'perk'},\n",
        "          11021 :{'name':'pencil','quantity': 20,'price': 4,'brand':'apsara'},\n",
        "          11022 :{'name':'rubber','quantity': 20,'price': 10,'brand':'apsara'},\n",
        "          11023 :{'name':'pen','quantity': 20,'price': 10,'brand':'pentech'},\n",
        "          11024 :{'name':'copies','quantity': 20,'price': 50,'brand':'NoteBook'},\n",
        "          11025 :{'name':'bag','quantity': 20,'price': 400,'brand':'skybags'},\n",
        "          11026 :{'name':'coffee','quantity': 40,'price': 10,'brand':'nestle'},\n",
        "          11027 :{'name':'apple','quantity': 20,'price': 10,'brand':'apple'},\n",
        "          11028 :{'name':'lunch','quantity': 20,'price': 150,'brand':'steel'},\n",
        "          11029 :{'name':'waterbottle','quantity': 20,'price': 60,'brand':'water'},\n",
        "          11030 :{'name':'sugarfree','quantity': 20,'price': 60,'brand':'madhur'}\n",
        "              \n",
        "\n",
        "}"
      ],
      "execution_count": null,
      "outputs": []
    },
    {
      "cell_type": "markdown",
      "metadata": {
        "id": "tAEWbpf8N9xr"
      },
      "source": [
        "## Record data\n"
      ]
    },
    {
      "cell_type": "code",
      "metadata": {
        "id": "FO0iAFKX-VkA",
        "colab": {
          "base_uri": "https://localhost:8080/"
        },
        "outputId": "7191d413-2af2-4c6f-c288-320402069972"
      },
      "source": [
        "record"
      ],
      "execution_count": null,
      "outputs": [
        {
          "output_type": "execute_result",
          "data": {
            "text/plain": [
              "{1101: {'brand': 'cans', 'name': 'candy', 'price': 5, 'quantity': 20},\n",
              " 1102: {'brand': 'cakes n crafts',\n",
              "  'name': 'cake',\n",
              "  'price': 200,\n",
              "  'quantity': 50},\n",
              " 1103: {'brand': 'Liril', 'name': 'soap', 'price': 30, 'quantity': 40},\n",
              " 1104: {'brand': 'Oral B', 'name': 'brush', 'price': 20, 'quantity': 20},\n",
              " 1105: {'brand': 'Patanjali', 'name': 'Paste', 'price': 90, 'quantity': 70},\n",
              " 1106: {'brand': 'Saffola', 'name': 'oil', 'price': 100, 'quantity': 10},\n",
              " 1107: {'brand': 'Jwala', 'name': 'Haldi', 'price': 90, 'quantity': 30},\n",
              " 1108: {'brand': 'Jwala', 'name': 'Mirch', 'price': 40, 'quantity': 20},\n",
              " 1109: {'brand': 'Ghadi', 'name': 'Detergent', 'price': 40, 'quantity': 100},\n",
              " 11010: {'brand': 'Dairy Milk',\n",
              "  'name': 'Chocolate',\n",
              "  'price': 20,\n",
              "  'quantity': 50},\n",
              " 11011: {'brand': 'baurbon', 'name': 'Biscuit', 'price': 10, 'quantity': 20},\n",
              " 11012: {'brand': 'Cadbury', 'name': 'bournVita', 'price': 10, 'quantity': 20},\n",
              " 11013: {'brand': 'Amul', 'name': 'Ghee', 'price': 300, 'quantity': 50},\n",
              " 11014: {'brand': 'Amul', 'name': 'milk', 'price': 50, 'quantity': 20},\n",
              " 11015: {'brand': 'gold', 'name': 'MouthFreshner', 'price': 5, 'quantity': 20},\n",
              " 11016: {'brand': 'dove', 'name': 'shampoo', 'price': 5, 'quantity': 40},\n",
              " 11017: {'brand': 'nestle', 'name': 'maggie', 'price': 20, 'quantity': 20},\n",
              " 11018: {'brand': 'nestle', 'name': 'pasta', 'price': 30, 'quantity': 20},\n",
              " 11019: {'brand': 'yippee', 'name': 'yippee', 'price': 20, 'quantity': 30},\n",
              " 11020: {'brand': 'perk', 'name': 'perk', 'price': 10, 'quantity': 20},\n",
              " 11021: {'brand': 'apsara', 'name': 'pencil', 'price': 4, 'quantity': 20},\n",
              " 11022: {'brand': 'apsara', 'name': 'rubber', 'price': 10, 'quantity': 20},\n",
              " 11023: {'brand': 'pentech', 'name': 'pen', 'price': 10, 'quantity': 20},\n",
              " 11024: {'brand': 'NoteBook', 'name': 'copies', 'price': 50, 'quantity': 20},\n",
              " 11025: {'brand': 'skybags', 'name': 'bag', 'price': 400, 'quantity': 20},\n",
              " 11026: {'brand': 'nestle', 'name': 'coffee', 'price': 10, 'quantity': 40},\n",
              " 11027: {'brand': 'apple', 'name': 'apple', 'price': 10, 'quantity': 20},\n",
              " 11028: {'brand': 'steel', 'name': 'lunch', 'price': 150, 'quantity': 20},\n",
              " 11029: {'brand': 'water', 'name': 'waterbottle', 'price': 60, 'quantity': 20},\n",
              " 11030: {'brand': 'madhur', 'name': 'sugarfree', 'price': 60, 'quantity': 20}}"
            ]
          },
          "metadata": {},
          "execution_count": 45
        }
      ]
    },
    {
      "cell_type": "code",
      "metadata": {
        "id": "o5XtfWU06MCz"
      },
      "source": [
        "import json"
      ],
      "execution_count": null,
      "outputs": []
    },
    {
      "cell_type": "code",
      "metadata": {
        "id": "7o9ebXnHvxWR"
      },
      "source": [
        "js = json.dumps(record)"
      ],
      "execution_count": null,
      "outputs": []
    },
    {
      "cell_type": "code",
      "metadata": {
        "colab": {
          "base_uri": "https://localhost:8080/",
          "height": 137
        },
        "id": "u4GEOlcFDlqx",
        "outputId": "b0bd48e6-7e24-4b31-9293-9610bdd17dc1"
      },
      "source": [
        "js"
      ],
      "execution_count": null,
      "outputs": [
        {
          "output_type": "execute_result",
          "data": {
            "application/vnd.google.colaboratory.intrinsic+json": {
              "type": "string"
            },
            "text/plain": [
              "'{\"1101\": {\"name\": \"candy\", \"quantity\": 20, \"price\": 5, \"brand\": \"cans\"}, \"1102\": {\"name\": \"cake\", \"quantity\": 50, \"price\": 200, \"brand\": \"cakes n crafts\"}, \"1103\": {\"name\": \"soap\", \"quantity\": 40, \"price\": 30, \"brand\": \"Liril\"}, \"1104\": {\"name\": \"brush\", \"quantity\": 20, \"price\": 20, \"brand\": \"Oral B\"}, \"1105\": {\"name\": \"Paste\", \"quantity\": 70, \"price\": 90, \"brand\": \"Patanjali\"}, \"1106\": {\"name\": \"oil\", \"quantity\": 10, \"price\": 100, \"brand\": \"Saffola\"}, \"1107\": {\"name\": \"Haldi\", \"quantity\": 30, \"price\": 90, \"brand\": \"Jwala\"}, \"1108\": {\"name\": \"Mirch\", \"quantity\": 20, \"price\": 40, \"brand\": \"Jwala\"}, \"1109\": {\"name\": \"Detergent\", \"quantity\": 100, \"price\": 40, \"brand\": \"Ghadi\"}, \"11010\": {\"name\": \"Chocolate\", \"quantity\": 50, \"price\": 20, \"brand\": \"Dairy Milk\"}, \"11011\": {\"name\": \"Biscuit\", \"quantity\": 20, \"price\": 10, \"brand\": \"baurbon\"}, \"11012\": {\"name\": \"bournVita\", \"quantity\": 20, \"price\": 10, \"brand\": \"Cadbury\"}, \"11013\": {\"name\": \"Ghee\", \"quantity\": 50, \"price\": 300, \"brand\": \"Amul\"}, \"11014\": {\"name\": \"milk\", \"quantity\": 20, \"price\": 50, \"brand\": \"Amul\"}, \"11015\": {\"name\": \"MouthFreshner\", \"quantity\": 20, \"price\": 5, \"brand\": \"gold\"}, \"11016\": {\"name\": \"shampoo\", \"quantity\": 40, \"price\": 5, \"brand\": \"dove\"}, \"11017\": {\"name\": \"maggie\", \"quantity\": 20, \"price\": 20, \"brand\": \"nestle\"}, \"11018\": {\"name\": \"pasta\", \"quantity\": 20, \"price\": 30, \"brand\": \"nestle\"}, \"11019\": {\"name\": \"yippee\", \"quantity\": 30, \"price\": 20, \"brand\": \"yippee\"}, \"11020\": {\"name\": \"perk\", \"quantity\": 20, \"price\": 10, \"brand\": \"perk\"}, \"11021\": {\"name\": \"pencil\", \"quantity\": 20, \"price\": 4, \"brand\": \"apsara\"}, \"11022\": {\"name\": \"rubber\", \"quantity\": 20, \"price\": 10, \"brand\": \"apsara\"}, \"11023\": {\"name\": \"pen\", \"quantity\": 20, \"price\": 10, \"brand\": \"pentech\"}, \"11024\": {\"name\": \"copies\", \"quantity\": 20, \"price\": 50, \"brand\": \"NoteBook\"}, \"11025\": {\"name\": \"bag\", \"quantity\": 20, \"price\": 400, \"brand\": \"skybags\"}, \"11026\": {\"name\": \"coffee\", \"quantity\": 40, \"price\": 10, \"brand\": \"nestle\"}, \"11027\": {\"name\": \"apple\", \"quantity\": 20, \"price\": 10, \"brand\": \"apple\"}, \"11028\": {\"name\": \"lunch\", \"quantity\": 20, \"price\": 150, \"brand\": \"steel\"}, \"11029\": {\"name\": \"waterbottle\", \"quantity\": 20, \"price\": 60, \"brand\": \"water\"}, \"11030\": {\"name\": \"sugarfree\", \"quantity\": 20, \"price\": 60, \"brand\": \"madhur\"}}'"
            ]
          },
          "metadata": {},
          "execution_count": 48
        }
      ]
    },
    {
      "cell_type": "markdown",
      "metadata": {
        "id": "wRQCJ5HLOHX_"
      },
      "source": [
        "## Wrirting  to record file"
      ]
    },
    {
      "cell_type": "code",
      "metadata": {
        "id": "mM9QH3wIEKc7"
      },
      "source": [
        "fd = open('record.json','w')\n",
        "fd.write(js)\n",
        "fd.close()"
      ],
      "execution_count": null,
      "outputs": []
    },
    {
      "cell_type": "markdown",
      "metadata": {
        "id": "5go-Vf43OT98"
      },
      "source": [
        "## Reading the record file"
      ]
    },
    {
      "cell_type": "code",
      "metadata": {
        "id": "ZI-PEw0BEMi7"
      },
      "source": [
        "fd = open('record.json','r')\n",
        "r = fd.read()\n",
        "fd.close()"
      ],
      "execution_count": null,
      "outputs": []
    },
    {
      "cell_type": "code",
      "metadata": {
        "id": "TLHzUZ5GEPA0"
      },
      "source": [
        "record = json.loads(r)"
      ],
      "execution_count": null,
      "outputs": []
    },
    {
      "cell_type": "code",
      "metadata": {
        "id": "dNHVi0MaEil2",
        "colab": {
          "base_uri": "https://localhost:8080/"
        },
        "outputId": "fb4fb8bb-5ee4-4966-b296-ffb4f419e9c7"
      },
      "source": [
        "record"
      ],
      "execution_count": null,
      "outputs": [
        {
          "output_type": "execute_result",
          "data": {
            "text/plain": [
              "{'1101': {'brand': 'cans', 'name': 'candy', 'price': 5, 'quantity': 20},\n",
              " '11010': {'brand': 'Dairy Milk',\n",
              "  'name': 'Chocolate',\n",
              "  'price': 20,\n",
              "  'quantity': 50},\n",
              " '11011': {'brand': 'baurbon', 'name': 'Biscuit', 'price': 10, 'quantity': 20},\n",
              " '11012': {'brand': 'Cadbury',\n",
              "  'name': 'bournVita',\n",
              "  'price': 10,\n",
              "  'quantity': 20},\n",
              " '11013': {'brand': 'Amul', 'name': 'Ghee', 'price': 300, 'quantity': 50},\n",
              " '11014': {'brand': 'Amul', 'name': 'milk', 'price': 50, 'quantity': 20},\n",
              " '11015': {'brand': 'gold',\n",
              "  'name': 'MouthFreshner',\n",
              "  'price': 5,\n",
              "  'quantity': 20},\n",
              " '11016': {'brand': 'dove', 'name': 'shampoo', 'price': 5, 'quantity': 40},\n",
              " '11017': {'brand': 'nestle', 'name': 'maggie', 'price': 20, 'quantity': 20},\n",
              " '11018': {'brand': 'nestle', 'name': 'pasta', 'price': 30, 'quantity': 20},\n",
              " '11019': {'brand': 'yippee', 'name': 'yippee', 'price': 20, 'quantity': 30},\n",
              " '1102': {'brand': 'cakes n crafts',\n",
              "  'name': 'cake',\n",
              "  'price': 200,\n",
              "  'quantity': 50},\n",
              " '11020': {'brand': 'perk', 'name': 'perk', 'price': 10, 'quantity': 20},\n",
              " '11021': {'brand': 'apsara', 'name': 'pencil', 'price': 4, 'quantity': 20},\n",
              " '11022': {'brand': 'apsara', 'name': 'rubber', 'price': 10, 'quantity': 20},\n",
              " '11023': {'brand': 'pentech', 'name': 'pen', 'price': 10, 'quantity': 20},\n",
              " '11024': {'brand': 'NoteBook', 'name': 'copies', 'price': 50, 'quantity': 20},\n",
              " '11025': {'brand': 'skybags', 'name': 'bag', 'price': 400, 'quantity': 20},\n",
              " '11026': {'brand': 'nestle', 'name': 'coffee', 'price': 10, 'quantity': 40},\n",
              " '11027': {'brand': 'apple', 'name': 'apple', 'price': 10, 'quantity': 20},\n",
              " '11028': {'brand': 'steel', 'name': 'lunch', 'price': 150, 'quantity': 20},\n",
              " '11029': {'brand': 'water',\n",
              "  'name': 'waterbottle',\n",
              "  'price': 60,\n",
              "  'quantity': 20},\n",
              " '1103': {'brand': 'Liril', 'name': 'soap', 'price': 30, 'quantity': 40},\n",
              " '11030': {'brand': 'madhur',\n",
              "  'name': 'sugarfree',\n",
              "  'price': 60,\n",
              "  'quantity': 20},\n",
              " '1104': {'brand': 'Oral B', 'name': 'brush', 'price': 20, 'quantity': 20},\n",
              " '1105': {'brand': 'Patanjali', 'name': 'Paste', 'price': 90, 'quantity': 70},\n",
              " '1106': {'brand': 'Saffola', 'name': 'oil', 'price': 100, 'quantity': 10},\n",
              " '1107': {'brand': 'Jwala', 'name': 'Haldi', 'price': 90, 'quantity': 30},\n",
              " '1108': {'brand': 'Jwala', 'name': 'Mirch', 'price': 40, 'quantity': 20},\n",
              " '1109': {'brand': 'Ghadi', 'name': 'Detergent', 'price': 40, 'quantity': 100}}"
            ]
          },
          "metadata": {},
          "execution_count": 52
        }
      ]
    },
    {
      "cell_type": "markdown",
      "metadata": {
        "id": "ANE9xt9vBWAI"
      },
      "source": [
        "## Adding and updating new item to inventory\n"
      ]
    },
    {
      "cell_type": "code",
      "metadata": {
        "colab": {
          "base_uri": "https://localhost:8080/"
        },
        "id": "y8rzLIHtFx4R",
        "outputId": "aa400005-4dfb-4392-fdd8-90b27417d4ea"
      },
      "source": [
        "prod_id = input(\"Enter Product ID : \")\n",
        "name = input(\"Enter Product Name : \")\n",
        "pr = int(input(\"Enter the price of product :\"))\n",
        "qn = int(input(\"Enter the Quaniity : \"))\n",
        "brand = input(\"Enter the brand of product : \")\n",
        "\n",
        "\n",
        "record[prod_id] = {'brand': brand, 'name': name,'price': pr, 'quantity': qn}\n",
        "\n",
        "js = json.dumps(record)\n",
        "\n",
        "fd = open('record.json','w')\n",
        "fd.write(js)\n",
        "fd.close()\n",
        "\n"
      ],
      "execution_count": null,
      "outputs": [
        {
          "name": "stdout",
          "output_type": "stream",
          "text": [
            "Enter Product ID : 11032\n",
            "Enter Product Name : deo\n",
            "Enter the price of product :500\n",
            "Enter the Quaniity : 50\n",
            "Enter the brand of product : Axe\n"
          ]
        }
      ]
    },
    {
      "cell_type": "code",
      "metadata": {
        "colab": {
          "base_uri": "https://localhost:8080/"
        },
        "id": "n0BKgHWNFp-_",
        "outputId": "9cfe1251-f389-42dd-91cc-e20ed3fb14e1"
      },
      "source": [
        "record"
      ],
      "execution_count": null,
      "outputs": [
        {
          "output_type": "execute_result",
          "data": {
            "text/plain": [
              "{'1101': {'brand': 'cans', 'name': 'candy', 'price': 5, 'quantity': 20},\n",
              " '11010': {'brand': 'Dairy Milk',\n",
              "  'name': 'Chocolate',\n",
              "  'price': 20,\n",
              "  'quantity': 50},\n",
              " '11011': {'brand': 'baurbon', 'name': 'Biscuit', 'price': 10, 'quantity': 20},\n",
              " '11012': {'brand': 'Cadbury',\n",
              "  'name': 'bournVita',\n",
              "  'price': 10,\n",
              "  'quantity': 20},\n",
              " '11013': {'brand': 'Amul', 'name': 'Ghee', 'price': 300, 'quantity': 50},\n",
              " '11014': {'brand': 'Amul', 'name': 'milk', 'price': 50, 'quantity': 20},\n",
              " '11015': {'brand': 'gold',\n",
              "  'name': 'MouthFreshner',\n",
              "  'price': 5,\n",
              "  'quantity': 20},\n",
              " '11016': {'brand': 'dove', 'name': 'shampoo', 'price': 5, 'quantity': 40},\n",
              " '11017': {'brand': 'nestle', 'name': 'maggie', 'price': 20, 'quantity': 20},\n",
              " '11018': {'brand': 'nestle', 'name': 'pasta', 'price': 30, 'quantity': 20},\n",
              " '11019': {'brand': 'yippee', 'name': 'yippee', 'price': 20, 'quantity': 30},\n",
              " '1102': {'brand': 'cakes n crafts',\n",
              "  'name': 'cake',\n",
              "  'price': 200,\n",
              "  'quantity': 50},\n",
              " '11020': {'brand': 'perk', 'name': 'perk', 'price': 10, 'quantity': 20},\n",
              " '11021': {'brand': 'apsara', 'name': 'pencil', 'price': 4, 'quantity': 20},\n",
              " '11022': {'brand': 'apsara', 'name': 'rubber', 'price': 10, 'quantity': 20},\n",
              " '11023': {'brand': 'pentech', 'name': 'pen', 'price': 10, 'quantity': 20},\n",
              " '11024': {'brand': 'NoteBook', 'name': 'copies', 'price': 50, 'quantity': 20},\n",
              " '11025': {'brand': 'skybags', 'name': 'bag', 'price': 400, 'quantity': 20},\n",
              " '11026': {'brand': 'nestle', 'name': 'coffee', 'price': 10, 'quantity': 40},\n",
              " '11027': {'brand': 'apple', 'name': 'apple', 'price': 10, 'quantity': 20},\n",
              " '11028': {'brand': 'steel', 'name': 'lunch', 'price': 150, 'quantity': 20},\n",
              " '11029': {'brand': 'water',\n",
              "  'name': 'waterbottle',\n",
              "  'price': 60,\n",
              "  'quantity': 20},\n",
              " '1103': {'brand': 'Liril', 'name': 'soap', 'price': 30, 'quantity': 40},\n",
              " '11030': {'brand': 'madhur',\n",
              "  'name': 'sugarfree',\n",
              "  'price': 60,\n",
              "  'quantity': 20},\n",
              " '11032': {'brand': 'Axe', 'name': 'deo', 'price': 500, 'quantity': 50},\n",
              " '1104': {'brand': 'Oral B', 'name': 'brush', 'price': 20, 'quantity': 20},\n",
              " '1105': {'brand': 'Patanjali', 'name': 'Paste', 'price': 90, 'quantity': 70},\n",
              " '1106': {'brand': 'Saffola', 'name': 'oil', 'price': 100, 'quantity': 10},\n",
              " '1107': {'brand': 'Jwala', 'name': 'Haldi', 'price': 90, 'quantity': 30},\n",
              " '1108': {'brand': 'Jwala', 'name': 'Mirch', 'price': 40, 'quantity': 20},\n",
              " '1109': {'brand': 'Ghadi', 'name': 'Detergent', 'price': 40, 'quantity': 100}}"
            ]
          },
          "metadata": {},
          "execution_count": 56
        }
      ]
    },
    {
      "cell_type": "markdown",
      "metadata": {
        "id": "R4h-O85_O0-n"
      },
      "source": [
        "## Checking after updating the inventory"
      ]
    },
    {
      "cell_type": "code",
      "metadata": {
        "colab": {
          "base_uri": "https://localhost:8080/"
        },
        "id": "2Z8UPHdCFr84",
        "outputId": "7e459558-bfa0-4c41-fd31-76b299587437"
      },
      "source": [
        "record['11032']\n"
      ],
      "execution_count": null,
      "outputs": [
        {
          "output_type": "execute_result",
          "data": {
            "text/plain": [
              "{'brand': 'Axe', 'name': 'deo', 'price': 500, 'quantity': 50}"
            ]
          },
          "metadata": {},
          "execution_count": 57
        }
      ]
    },
    {
      "cell_type": "code",
      "metadata": {
        "id": "8MHjeOeeSIrY"
      },
      "source": [
        ""
      ],
      "execution_count": null,
      "outputs": []
    }
  ]
}
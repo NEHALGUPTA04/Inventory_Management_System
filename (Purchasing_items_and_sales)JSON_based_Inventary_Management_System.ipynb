{
  "nbformat": 4,
  "nbformat_minor": 0,
  "metadata": {
    "colab": {
      "name": "(Purchasing items and sales)JSON based Inventary Management System.ipynb",
      "provenance": [],
      "collapsed_sections": []
    },
    "kernelspec": {
      "name": "python3",
      "display_name": "Python 3"
    },
    "language_info": {
      "name": "python"
    }
  },
  "cells": [
    {
      "cell_type": "code",
      "metadata": {
        "id": "MWLEZ84dCdfA"
      },
      "source": [
        "import json\n",
        "from datetime import datetime"
      ],
      "execution_count": 9,
      "outputs": []
    },
    {
      "cell_type": "markdown",
      "metadata": {
        "id": "5LPSTlGfPUL6"
      },
      "source": [
        "## Reading the file"
      ]
    },
    {
      "cell_type": "code",
      "metadata": {
        "id": "4w1o72ViCxq6"
      },
      "source": [
        "fd = open('updatedRecord after adding item.json','r')\n",
        "r = fd.read()\n",
        "fd.close()\n",
        "\n",
        "records = json.loads(r)"
      ],
      "execution_count": 10,
      "outputs": []
    },
    {
      "cell_type": "code",
      "metadata": {
        "colab": {
          "base_uri": "https://localhost:8080/"
        },
        "id": "xh3FOlsNDBrY",
        "outputId": "7df35701-5232-4394-8dd1-7f5c4aa3a855"
      },
      "source": [
        "records"
      ],
      "execution_count": 11,
      "outputs": [
        {
          "output_type": "execute_result",
          "data": {
            "text/plain": [
              "{'1101': {'brand': 'cans', 'name': 'candy', 'price': 5, 'quantity': 20},\n",
              " '11010': {'brand': 'Dairy Milk',\n",
              "  'name': 'Chocolate',\n",
              "  'price': 20,\n",
              "  'quantity': 50},\n",
              " '11011': {'brand': 'baurbon', 'name': 'Biscuit', 'price': 10, 'quantity': 20},\n",
              " '11012': {'brand': 'Cadbury',\n",
              "  'name': 'bournVita',\n",
              "  'price': 10,\n",
              "  'quantity': 20},\n",
              " '11013': {'brand': 'Amul', 'name': 'Ghee', 'price': 300, 'quantity': 50},\n",
              " '11014': {'brand': 'Amul', 'name': 'milk', 'price': 50, 'quantity': 20},\n",
              " '11015': {'brand': 'gold',\n",
              "  'name': 'MouthFreshner',\n",
              "  'price': 5,\n",
              "  'quantity': 20},\n",
              " '11016': {'brand': 'dove', 'name': 'shampoo', 'price': 5, 'quantity': 40},\n",
              " '11017': {'brand': 'nestle', 'name': 'maggie', 'price': 20, 'quantity': 20},\n",
              " '11018': {'brand': 'nestle', 'name': 'pasta', 'price': 30, 'quantity': 20},\n",
              " '11019': {'brand': 'yippee', 'name': 'yippee', 'price': 20, 'quantity': 30},\n",
              " '1102': {'brand': 'cakes n crafts',\n",
              "  'name': 'cake',\n",
              "  'price': 200,\n",
              "  'quantity': 50},\n",
              " '11020': {'brand': 'perk', 'name': 'perk', 'price': 10, 'quantity': 20},\n",
              " '11021': {'brand': 'apsara', 'name': 'pencil', 'price': 4, 'quantity': 20},\n",
              " '11022': {'brand': 'apsara', 'name': 'rubber', 'price': 10, 'quantity': 20},\n",
              " '11023': {'brand': 'pentech', 'name': 'pen', 'price': 10, 'quantity': 20},\n",
              " '11024': {'brand': 'NoteBook', 'name': 'copies', 'price': 50, 'quantity': 20},\n",
              " '11025': {'brand': 'skybags', 'name': 'bag', 'price': 400, 'quantity': 20},\n",
              " '11026': {'brand': 'nestle', 'name': 'coffee', 'price': 10, 'quantity': 40},\n",
              " '11027': {'brand': 'apple', 'name': 'apple', 'price': 10, 'quantity': 20},\n",
              " '11028': {'brand': 'steel', 'name': 'lunch', 'price': 150, 'quantity': 20},\n",
              " '11029': {'brand': 'water',\n",
              "  'name': 'waterbottle',\n",
              "  'price': 60,\n",
              "  'quantity': 20},\n",
              " '1103': {'brand': 'Liril', 'name': 'soap', 'price': 30, 'quantity': 40},\n",
              " '11030': {'brand': 'madhur',\n",
              "  'name': 'sugarfree',\n",
              "  'price': 60,\n",
              "  'quantity': 20},\n",
              " '11031': {'brand': 'almond', 'name': 'almond', 'price': 500, 'quantity': 50},\n",
              " '1104': {'brand': 'Oral B', 'name': 'brush', 'price': 20, 'quantity': 20},\n",
              " '1105': {'brand': 'Patanjali', 'name': 'Paste', 'price': 90, 'quantity': 70},\n",
              " '1106': {'brand': 'Saffola', 'name': 'oil', 'price': 100, 'quantity': 10},\n",
              " '1107': {'brand': 'Jwala', 'name': 'Haldi', 'price': 90, 'quantity': 30},\n",
              " '1108': {'brand': 'Jwala', 'name': 'Mirch', 'price': 40, 'quantity': 20},\n",
              " '1109': {'brand': 'Ghadi', 'name': 'Detergent', 'price': 40, 'quantity': 100}}"
            ]
          },
          "metadata": {},
          "execution_count": 11
        }
      ]
    },
    {
      "cell_type": "markdown",
      "metadata": {
        "id": "FOysmwQEPaGc"
      },
      "source": [
        "## User input and condition to check the input is present or not"
      ]
    },
    {
      "cell_type": "code",
      "metadata": {
        "colab": {
          "base_uri": "https://localhost:8080/"
        },
        "id": "cks1HZpzDP3j",
        "outputId": "9ceb905c-0cd3-4936-ce0d-ad61fccfd8f8"
      },
      "source": [
        "ui_prod = input(\"Enter the Product ID : \")\n",
        "ui_quant = int(input(\"Enter the quantity :\"))\n",
        "print(\"Date          Time \")\n",
        "print(datetime.now())\n",
        "print(\"**********************************************\")\n",
        "if(ui_quant <= records[ui_prod]['quantity'] & records[ui_prod]['quantity']>0):\n",
        "\n",
        "  print(\"Product Name  : \" ,records[ui_prod]['name'])\n",
        "  print(\"Product Brand : \", records[ui_prod]['brand'])\n",
        "  print(\"Product Price : \" ,records[ui_prod]['price'])\n",
        "\n",
        "  print(\"-------------------------------------------------\")\n",
        "  print(\"Billing Amount: \", records[ui_prod]['price'] * ui_quant, \"Rupees\")\n",
        "  print(\"-------------------------------------------------\")\n",
        "\n",
        "\n",
        "  records[ui_prod]['quantity'] =  records[ui_prod]['quantity'] - ui_quant \n",
        "\n",
        "else:\n",
        "  if(records[ui_prod]['quantity']>0):\n",
        "    print(\"The quantity you asked for is not available. \",records[ui_prod]['quantity'],\"  Quantity available\")\n",
        "    print(\"**********************************************\")\n",
        "\n",
        "    print(\"Product Name  : \" ,records[ui_prod]['name'])\n",
        "    print(\"Product Brand : \", records[ui_prod]['brand'])\n",
        "    print(\"Product Price : \" ,records[ui_prod]['price'])\n",
        "\n",
        "    print(\"-------------------------------------------------\")\n",
        "    print(\"Billing Amount: \", records[ui_prod]['price'] * records[ui_prod]['quantity'], \"Rupees\")\n",
        "    print(\"-------------------------------------------------\")\n",
        "\n",
        "\n",
        "    records[ui_prod]['quantity'] =  records[ui_prod]['quantity'] - ui_quant \n",
        "  \n",
        "  else:\n",
        "    print(\"Sorry, Not Available!!\")\n",
        "  "
      ],
      "execution_count": 15,
      "outputs": [
        {
          "output_type": "stream",
          "name": "stdout",
          "text": [
            "Enter the Product ID : 1104\n",
            "Enter the quantity :3\n",
            "Date          Time \n",
            "2021-09-05 14:15:51.773148\n",
            "**********************************************\n",
            "Product Name  :  brush\n",
            "Product Brand :  Oral B\n",
            "Product Price :  20\n",
            "-------------------------------------------------\n",
            "Billing Amount:  60 Rupees\n",
            "-------------------------------------------------\n"
          ]
        }
      ]
    },
    {
      "cell_type": "code",
      "metadata": {
        "colab": {
          "base_uri": "https://localhost:8080/"
        },
        "id": "hFVOLLl8Dnhx",
        "outputId": "1a203196-1f59-48c2-f587-4a69415d0985"
      },
      "source": [
        "records"
      ],
      "execution_count": 16,
      "outputs": [
        {
          "output_type": "execute_result",
          "data": {
            "text/plain": [
              "{'1101': {'brand': 'cans', 'name': 'candy', 'price': 5, 'quantity': 20},\n",
              " '11010': {'brand': 'Dairy Milk',\n",
              "  'name': 'Chocolate',\n",
              "  'price': 20,\n",
              "  'quantity': 50},\n",
              " '11011': {'brand': 'baurbon', 'name': 'Biscuit', 'price': 10, 'quantity': 20},\n",
              " '11012': {'brand': 'Cadbury',\n",
              "  'name': 'bournVita',\n",
              "  'price': 10,\n",
              "  'quantity': 20},\n",
              " '11013': {'brand': 'Amul', 'name': 'Ghee', 'price': 300, 'quantity': 50},\n",
              " '11014': {'brand': 'Amul', 'name': 'milk', 'price': 50, 'quantity': 20},\n",
              " '11015': {'brand': 'gold',\n",
              "  'name': 'MouthFreshner',\n",
              "  'price': 5,\n",
              "  'quantity': 20},\n",
              " '11016': {'brand': 'dove', 'name': 'shampoo', 'price': 5, 'quantity': 40},\n",
              " '11017': {'brand': 'nestle', 'name': 'maggie', 'price': 20, 'quantity': 20},\n",
              " '11018': {'brand': 'nestle', 'name': 'pasta', 'price': 30, 'quantity': 20},\n",
              " '11019': {'brand': 'yippee', 'name': 'yippee', 'price': 20, 'quantity': 30},\n",
              " '1102': {'brand': 'cakes n crafts',\n",
              "  'name': 'cake',\n",
              "  'price': 200,\n",
              "  'quantity': 50},\n",
              " '11020': {'brand': 'perk', 'name': 'perk', 'price': 10, 'quantity': 20},\n",
              " '11021': {'brand': 'apsara', 'name': 'pencil', 'price': 4, 'quantity': 20},\n",
              " '11022': {'brand': 'apsara', 'name': 'rubber', 'price': 10, 'quantity': 20},\n",
              " '11023': {'brand': 'pentech', 'name': 'pen', 'price': 10, 'quantity': 20},\n",
              " '11024': {'brand': 'NoteBook', 'name': 'copies', 'price': 50, 'quantity': 20},\n",
              " '11025': {'brand': 'skybags', 'name': 'bag', 'price': 400, 'quantity': 20},\n",
              " '11026': {'brand': 'nestle', 'name': 'coffee', 'price': 10, 'quantity': 40},\n",
              " '11027': {'brand': 'apple', 'name': 'apple', 'price': 10, 'quantity': 20},\n",
              " '11028': {'brand': 'steel', 'name': 'lunch', 'price': 150, 'quantity': 20},\n",
              " '11029': {'brand': 'water',\n",
              "  'name': 'waterbottle',\n",
              "  'price': 60,\n",
              "  'quantity': 20},\n",
              " '1103': {'brand': 'Liril', 'name': 'soap', 'price': 30, 'quantity': 30},\n",
              " '11030': {'brand': 'madhur',\n",
              "  'name': 'sugarfree',\n",
              "  'price': 60,\n",
              "  'quantity': 20},\n",
              " '11031': {'brand': 'almond', 'name': 'almond', 'price': 500, 'quantity': 50},\n",
              " '1104': {'brand': 'Oral B', 'name': 'brush', 'price': 20, 'quantity': 17},\n",
              " '1105': {'brand': 'Patanjali', 'name': 'Paste', 'price': 90, 'quantity': 70},\n",
              " '1106': {'brand': 'Saffola', 'name': 'oil', 'price': 100, 'quantity': 1},\n",
              " '1107': {'brand': 'Jwala', 'name': 'Haldi', 'price': 90, 'quantity': 30},\n",
              " '1108': {'brand': 'Jwala', 'name': 'Mirch', 'price': 40, 'quantity': 20},\n",
              " '1109': {'brand': 'Ghadi', 'name': 'Detergent', 'price': 40, 'quantity': 80}}"
            ]
          },
          "metadata": {},
          "execution_count": 16
        }
      ]
    },
    {
      "cell_type": "markdown",
      "metadata": {
        "id": "yV9vBUruPkBo"
      },
      "source": [
        "## Checking if quantity or product is updated after selling"
      ]
    },
    {
      "cell_type": "code",
      "metadata": {
        "colab": {
          "base_uri": "https://localhost:8080/"
        },
        "id": "BNBhEzZtSoJt",
        "outputId": "845b0594-562c-490d-9e2c-fc6422a08b1a"
      },
      "source": [
        "records[ui_prod]"
      ],
      "execution_count": 19,
      "outputs": [
        {
          "output_type": "execute_result",
          "data": {
            "text/plain": [
              "{'brand': 'Oral B', 'name': 'brush', 'price': 20, 'quantity': 17}"
            ]
          },
          "metadata": {},
          "execution_count": 19
        }
      ]
    },
    {
      "cell_type": "code",
      "metadata": {
        "id": "eeb1UkVMHGwa"
      },
      "source": [
        "js = json.dumps(records)\n",
        "    \n",
        "fd = open('updatedRecord.json','w')\n",
        "fd.write(js)\n",
        "fd.close()\n",
        "\n"
      ],
      "execution_count": 20,
      "outputs": []
    },
    {
      "cell_type": "code",
      "metadata": {
        "colab": {
          "base_uri": "https://localhost:8080/",
          "height": 137
        },
        "id": "UCJA68R9Hs4G",
        "outputId": "d17d6594-ef21-4453-bced-c47fa85ae55a"
      },
      "source": [
        "js"
      ],
      "execution_count": 21,
      "outputs": [
        {
          "output_type": "execute_result",
          "data": {
            "application/vnd.google.colaboratory.intrinsic+json": {
              "type": "string"
            },
            "text/plain": [
              "'{\"1101\": {\"name\": \"candy\", \"quantity\": 20, \"price\": 5, \"brand\": \"cans\"}, \"1102\": {\"name\": \"cake\", \"quantity\": 50, \"price\": 200, \"brand\": \"cakes n crafts\"}, \"1103\": {\"name\": \"soap\", \"quantity\": 30, \"price\": 30, \"brand\": \"Liril\"}, \"1104\": {\"name\": \"brush\", \"quantity\": 17, \"price\": 20, \"brand\": \"Oral B\"}, \"1105\": {\"name\": \"Paste\", \"quantity\": 70, \"price\": 90, \"brand\": \"Patanjali\"}, \"1106\": {\"name\": \"oil\", \"quantity\": 1, \"price\": 100, \"brand\": \"Saffola\"}, \"1107\": {\"name\": \"Haldi\", \"quantity\": 30, \"price\": 90, \"brand\": \"Jwala\"}, \"1108\": {\"name\": \"Mirch\", \"quantity\": 20, \"price\": 40, \"brand\": \"Jwala\"}, \"1109\": {\"name\": \"Detergent\", \"quantity\": 80, \"price\": 40, \"brand\": \"Ghadi\"}, \"11010\": {\"name\": \"Chocolate\", \"quantity\": 50, \"price\": 20, \"brand\": \"Dairy Milk\"}, \"11011\": {\"name\": \"Biscuit\", \"quantity\": 20, \"price\": 10, \"brand\": \"baurbon\"}, \"11012\": {\"name\": \"bournVita\", \"quantity\": 20, \"price\": 10, \"brand\": \"Cadbury\"}, \"11013\": {\"name\": \"Ghee\", \"quantity\": 50, \"price\": 300, \"brand\": \"Amul\"}, \"11014\": {\"name\": \"milk\", \"quantity\": 20, \"price\": 50, \"brand\": \"Amul\"}, \"11015\": {\"name\": \"MouthFreshner\", \"quantity\": 20, \"price\": 5, \"brand\": \"gold\"}, \"11016\": {\"name\": \"shampoo\", \"quantity\": 40, \"price\": 5, \"brand\": \"dove\"}, \"11017\": {\"name\": \"maggie\", \"quantity\": 20, \"price\": 20, \"brand\": \"nestle\"}, \"11018\": {\"name\": \"pasta\", \"quantity\": 20, \"price\": 30, \"brand\": \"nestle\"}, \"11019\": {\"name\": \"yippee\", \"quantity\": 30, \"price\": 20, \"brand\": \"yippee\"}, \"11020\": {\"name\": \"perk\", \"quantity\": 20, \"price\": 10, \"brand\": \"perk\"}, \"11021\": {\"name\": \"pencil\", \"quantity\": 20, \"price\": 4, \"brand\": \"apsara\"}, \"11022\": {\"name\": \"rubber\", \"quantity\": 20, \"price\": 10, \"brand\": \"apsara\"}, \"11023\": {\"name\": \"pen\", \"quantity\": 20, \"price\": 10, \"brand\": \"pentech\"}, \"11024\": {\"name\": \"copies\", \"quantity\": 20, \"price\": 50, \"brand\": \"NoteBook\"}, \"11025\": {\"name\": \"bag\", \"quantity\": 20, \"price\": 400, \"brand\": \"skybags\"}, \"11026\": {\"name\": \"coffee\", \"quantity\": 40, \"price\": 10, \"brand\": \"nestle\"}, \"11027\": {\"name\": \"apple\", \"quantity\": 20, \"price\": 10, \"brand\": \"apple\"}, \"11028\": {\"name\": \"lunch\", \"quantity\": 20, \"price\": 150, \"brand\": \"steel\"}, \"11029\": {\"name\": \"waterbottle\", \"quantity\": 20, \"price\": 60, \"brand\": \"water\"}, \"11030\": {\"name\": \"sugarfree\", \"quantity\": 20, \"price\": 60, \"brand\": \"madhur\"}, \"11031\": {\"brand\": \"almond\", \"name\": \"almond\", \"price\": 500, \"quantity\": 50}}'"
            ]
          },
          "metadata": {},
          "execution_count": 21
        }
      ]
    },
    {
      "cell_type": "code",
      "metadata": {
        "colab": {
          "base_uri": "https://localhost:8080/"
        },
        "id": "FNqat42mL6OT",
        "outputId": "d0e403a6-7abb-4889-d985-e72c89e0fa35"
      },
      "source": [
        "{'Product ID': ui_prod ,'quantity': ui_quant,'amount': records[ui_prod]['price'] * ui_quant, 'price': records[ui_prod]['price'],'Product name': records[ui_prod]['name']}"
      ],
      "execution_count": 22,
      "outputs": [
        {
          "output_type": "execute_result",
          "data": {
            "text/plain": [
              "{'Product ID': '1104',\n",
              " 'Product name': 'brush',\n",
              " 'amount': 60,\n",
              " 'price': 20,\n",
              " 'quantity': 3}"
            ]
          },
          "metadata": {},
          "execution_count": 22
        }
      ]
    },
    {
      "cell_type": "markdown",
      "metadata": {
        "id": "zsr9gntaPuaS"
      },
      "source": [
        "## Total Sale for the product"
      ]
    },
    {
      "cell_type": "code",
      "metadata": {
        "id": "0lBYmtXBH66o"
      },
      "source": [
        "sales = {1 :{'Product ID': ui_prod ,'quantity': ui_quant,'amount': records[ui_prod]['price'] * ui_quant, 'price': records[ui_prod]['price'],'Product name': records[ui_prod]['name']}}"
      ],
      "execution_count": 23,
      "outputs": []
    },
    {
      "cell_type": "code",
      "metadata": {
        "colab": {
          "base_uri": "https://localhost:8080/"
        },
        "id": "WfmObgdPLxn8",
        "outputId": "a45f53b4-9b2b-49f8-a82a-ec13f3a2457d"
      },
      "source": [
        "sales"
      ],
      "execution_count": 25,
      "outputs": [
        {
          "output_type": "execute_result",
          "data": {
            "text/plain": [
              "{1: {'Product ID': '1104',\n",
              "  'Product name': 'brush',\n",
              "  'amount': 60,\n",
              "  'price': 20,\n",
              "  'quantity': 3}}"
            ]
          },
          "metadata": {},
          "execution_count": 25
        }
      ]
    },
    {
      "cell_type": "code",
      "metadata": {
        "colab": {
          "base_uri": "https://localhost:8080/",
          "height": 35
        },
        "id": "I5C-d7ceMMiz",
        "outputId": "f08218de-824c-4664-88b7-1e48a654f2c2"
      },
      "source": [
        "json.dumps(sales)"
      ],
      "execution_count": 26,
      "outputs": [
        {
          "output_type": "execute_result",
          "data": {
            "application/vnd.google.colaboratory.intrinsic+json": {
              "type": "string"
            },
            "text/plain": [
              "'{\"1\": {\"Product ID\": \"1104\", \"quantity\": 3, \"amount\": 60, \"price\": 20, \"Product name\": \"brush\"}}'"
            ]
          },
          "metadata": {},
          "execution_count": 26
        }
      ]
    },
    {
      "cell_type": "code",
      "metadata": {
        "id": "OybeCGDFM1XU"
      },
      "source": [
        ""
      ],
      "execution_count": null,
      "outputs": []
    }
  ]
}